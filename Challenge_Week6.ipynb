{
 "cells": [
  {
   "attachments": {},
   "cell_type": "markdown",
   "metadata": {},
   "source": [
    "1. Diberikan list sebagai berikut:"
   ]
  },
  {
   "cell_type": "code",
   "execution_count": 4,
   "metadata": {},
   "outputs": [
    {
     "name": "stdout",
     "output_type": "stream",
     "text": [
      "list data awal adalah\t\t ['a', 'b', 'c', 'd']\n",
      "integer data awal adalah\t [97, 98, 99, 100]\n",
      "integer data terbalik adalah\t [100, 99, 98, 97]\n",
      "list data akhir adalah\t\t ['d', 'c', 'b', 'a']\n"
     ]
    }
   ],
   "source": [
    "alph = [\"a\", \"b\", \"c\", \"d\"]\n",
    "\n",
    "print(f\"list data awal adalah\\t\\t {alph}\")\n",
    "data_urut = []\n",
    "\n",
    "for i in alph:\n",
    "    x = ord(i)\n",
    "    data_urut.append(x)\n",
    "\n",
    "print(f\"integer data awal adalah\\t {data_urut}\")\n",
    "\n",
    "data_urut.reverse()\n",
    "print(f\"integer data terbalik adalah\\t {data_urut}\")\n",
    "\n",
    "data_terbalik = []\n",
    "\n",
    "for i in data_urut:\n",
    "    y = chr(i)\n",
    "    data_terbalik.append(y)\n",
    "\n",
    "print(f\"list data akhir adalah\\t\\t {data_terbalik}\")"
   ]
  },
  {
   "attachments": {},
   "cell_type": "markdown",
   "metadata": {},
   "source": [
    "tampilkan isi dari list di atas secara terbalik menggunakan built-in function"
   ]
  },
  {
   "attachments": {},
   "cell_type": "markdown",
   "metadata": {},
   "source": [
    "2. Tuliskan sebuah fungsi yang menerima dua argumen dan mengembalikan True jika nilai pertama lebih besar dari nilai kedua, False jika kurang dari atau sama dengan yang kedua."
   ]
  },
  {
   "cell_type": "code",
   "execution_count": 3,
   "metadata": {},
   "outputs": [
    {
     "name": "stdout",
     "output_type": "stream",
     "text": [
      "True\n"
     ]
    }
   ],
   "source": [
    "def hasil(num1,num2):\n",
    "    if num1 > num2:\n",
    "        return \"True\"\n",
    "    else:\n",
    "        return \"False\"\n",
    "    \n",
    "x = int(input(\"masukkan nilai pertama : \"))\n",
    "y = int(input(\"masukkan nilai kedua : \"))\n",
    "print(hasil(x,y))"
   ]
  }
 ],
 "metadata": {
  "kernelspec": {
   "display_name": "Python 3",
   "language": "python",
   "name": "python3"
  },
  "language_info": {
   "codemirror_mode": {
    "name": "ipython",
    "version": 3
   },
   "file_extension": ".py",
   "mimetype": "text/x-python",
   "name": "python",
   "nbconvert_exporter": "python",
   "pygments_lexer": "ipython3",
   "version": "3.11.2"
  },
  "orig_nbformat": 4
 },
 "nbformat": 4,
 "nbformat_minor": 2
}
