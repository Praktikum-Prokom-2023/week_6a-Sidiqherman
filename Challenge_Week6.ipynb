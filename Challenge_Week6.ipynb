{
 "cells": [
  {
   "attachments": {},
   "cell_type": "markdown",
   "metadata": {},
   "source": [
    "1. Diberikan list sebagai berikut:"
   ]
  },
  {
   "cell_type": "code",
   "execution_count": 1,
   "metadata": {},
   "outputs": [
    {
     "name": "stdout",
     "output_type": "stream",
     "text": [
      "['d', 'c', 'b', 'a']\n"
     ]
    }
   ],
   "source": [
    "alph = [\"a\", \"b\", \"c\", \"d\"]\n",
    "\n",
    "def list():\n",
    "    alph.reverse()\n",
    "    return alph\n",
    "\n",
    "print(list())"
   ]
  },
  {
   "attachments": {},
   "cell_type": "markdown",
   "metadata": {},
   "source": [
    "tampilkan isi dari list di atas secara terbalik menggunakan built-in function"
   ]
  },
  {
   "attachments": {},
   "cell_type": "markdown",
   "metadata": {},
   "source": [
    "2. Tuliskan sebuah fungsi yang menerima dua argumen dan mengembalikan True jika nilai pertama lebih besar dari nilai kedua, False jika kurang dari atau sama dengan yang kedua."
   ]
  },
  {
   "cell_type": "code",
   "execution_count": 10,
   "metadata": {},
   "outputs": [
    {
     "name": "stdout",
     "output_type": "stream",
     "text": [
      "nilai pertama adalah 5, nilai kedua adalah 7\n",
      "False\n"
     ]
    }
   ],
   "source": [
    "def hasil(num1,num2):\n",
    "    if num1 > num2:\n",
    "        return \"True\"\n",
    "    else:\n",
    "        return \"False\"\n",
    "    \n",
    "x = int(input(\"masukkan nilai pertama : \"))\n",
    "y = int(input(\"masukkan nilai kedua : \"))\n",
    "\n",
    "print(f\"nilai pertama adalah {x}, nilai kedua adalah {y}\")\n",
    "print(hasil(x,y))"
   ]
  }
 ],
 "metadata": {
  "kernelspec": {
   "display_name": "Python 3",
   "language": "python",
   "name": "python3"
  },
  "language_info": {
   "codemirror_mode": {
    "name": "ipython",
    "version": 3
   },
   "file_extension": ".py",
   "mimetype": "text/x-python",
   "name": "python",
   "nbconvert_exporter": "python",
   "pygments_lexer": "ipython3",
   "version": "3.11.2"
  },
  "orig_nbformat": 4
 },
 "nbformat": 4,
 "nbformat_minor": 2
}
